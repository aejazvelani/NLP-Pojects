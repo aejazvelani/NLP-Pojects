{
  "nbformat": 4,
  "nbformat_minor": 0,
  "metadata": {
    "colab": {
      "name": "NLP Task.ipynb",
      "provenance": [],
      "toc_visible": true
    },
    "kernelspec": {
      "name": "python3",
      "display_name": "Python 3"
    }
  },
  "cells": [
    {
      "cell_type": "code",
      "metadata": {
        "id": "qgu9a7PsqgX5",
        "colab_type": "code",
        "colab": {}
      },
      "source": [
        "!pip install gtts\n",
        "!pip install pyautogui\n",
        "!pip install SpeechRecognition\n",
        "!apt install libasound2-dev portaudio19-dev libportaudio2 libportaudiocpp0 ffmpeg\n",
        "!pip install pyaudio\n",
        "!pip install pytesseract\n",
        "!sudo apt-get install tesseract-ocr"
      ],
      "execution_count": null,
      "outputs": []
    },
    {
      "cell_type": "markdown",
      "metadata": {
        "id": "8mIyRmezpjf2",
        "colab_type": "text"
      },
      "source": [
        "#audio-book"
      ]
    },
    {
      "cell_type": "code",
      "metadata": {
        "id": "ZxHvGEbNpc9V",
        "colab_type": "code",
        "colab": {
          "base_uri": "https://localhost:8080/",
          "height": 33
        },
        "outputId": "7e98a69b-8cbf-43b6-c78a-b7ad2c55af02"
      },
      "source": [
        "from gtts import gTTS\n",
        "import os\n",
        "\n",
        "f=open('text.txt')\n",
        "x=f.read()\n",
        "\n",
        "language='en'\n",
        "\n",
        "audio=gTTS(text=x,lang=language,slow=False)\n",
        "\n",
        "audio.save(\"1.wav\")\n",
        "os.system(\"1.wav\")"
      ],
      "execution_count": 3,
      "outputs": [
        {
          "output_type": "execute_result",
          "data": {
            "text/plain": [
              "32512"
            ]
          },
          "metadata": {
            "tags": []
          },
          "execution_count": 3
        }
      ]
    },
    {
      "cell_type": "markdown",
      "metadata": {
        "id": "8KiKO09Jq_tw",
        "colab_type": "text"
      },
      "source": [
        "#speech-to-text"
      ]
    },
    {
      "cell_type": "code",
      "metadata": {
        "id": "_TbeqsIdq-50",
        "colab_type": "code",
        "colab": {}
      },
      "source": [
        "import speech_recognition as sr\n",
        "r = sr.Recognizer()\n",
        "with sr.Microphone() as source:\n",
        "    print(\"speak: \")\n",
        "    audio =r.listen(source)\n",
        "\n",
        "    try:\n",
        "        text = r.recognize_google(audio)\n",
        "        print(\"{}\".format(text))\n",
        "    except:\n",
        "        print(\"error\")"
      ],
      "execution_count": null,
      "outputs": []
    },
    {
      "cell_type": "markdown",
      "metadata": {
        "id": "5SVllyrryJ0m",
        "colab_type": "text"
      },
      "source": [
        "#image-to-text"
      ]
    },
    {
      "cell_type": "code",
      "metadata": {
        "id": "RMVt87oe1ZrC",
        "colab_type": "code",
        "colab": {}
      },
      "source": [
        "!sudo apt update\n",
        "!sudo apt install tesseract-ocr\n",
        "!sudo apt install libtesseract-dev"
      ],
      "execution_count": null,
      "outputs": []
    },
    {
      "cell_type": "code",
      "metadata": {
        "id": "9hEVajKc1g9p",
        "colab_type": "code",
        "colab": {}
      },
      "source": [
        "import pytesseract\n",
        "from PIL import Image \n",
        "\n",
        "pytesseract.pytesseract.tesseract_cmd=r\"C:\\Program Files (x86)\\Tesseract-OCR\\tesseract.exe\"\n",
        "\n",
        "img=Image.open('1.jpg')\n",
        "text=pytesseract.image_to_string(img)\n",
        "print(text)"
      ],
      "execution_count": null,
      "outputs": []
    }
  ]
}